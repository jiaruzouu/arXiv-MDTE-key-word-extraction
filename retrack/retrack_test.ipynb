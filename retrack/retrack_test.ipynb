{
 "cells": [
  {
   "cell_type": "code",
   "execution_count": 5,
   "metadata": {},
   "outputs": [
    {
     "data": {
      "text/plain": [
       "'1 Introduction Abstract In 1997 the first optical afterglow of a cosmic Gamma-Ray\\nBurst was discovered, and substantial progress\\nhas been achieved since then.'"
      ]
     },
     "execution_count": 5,
     "metadata": {},
     "output_type": "execute_result"
    }
   ],
   "source": [
    "import spacy\n",
    "from bs4 import BeautifulSoup\n",
    "\n",
    "\n",
    "nlp = spacy.load(\"en_core_web_sm\")\n",
    "\n",
    "def split_into_sentences(text):\n",
    "    # Process the text with spaCy\n",
    "    doc = nlp(text)\n",
    "    \n",
    "    # Extract sentences and store them in a list\n",
    "    sentences = [sent.text for sent in doc.sents]\n",
    "    \n",
    "    return sentences\n",
    "\n",
    "infile = open(\"./0001/astro-ph0001008.html\", \"r\", encoding='utf-8')\n",
    "soup = BeautifulSoup(infile, 'html.parser')\n",
    "for data in soup(['annotation', 'script']):\n",
    "    data.decompose()\n",
    "\n",
    "text = \" \".join(soup.stripped_strings)\n",
    "sentences = split_into_sentences(text)\n",
    "\n"
   ]
  },
  {
   "cell_type": "code",
   "execution_count": 6,
   "metadata": {},
   "outputs": [
    {
     "data": {
      "text/plain": [
       "'Here we present a short review of\\nsome recent developments in this field, with\\nemphasis on observational aspects of the GRB phenomenon.'"
      ]
     },
     "execution_count": 6,
     "metadata": {},
     "output_type": "execute_result"
    }
   ],
   "source": [
    "# Print the list of sentences\n",
    "for i, sentence in enumerate(sentences, start=1):\n",
    "    print(f\"Sentence {i}: {sentence}\")"
   ]
  }
 ],
 "metadata": {
  "kernelspec": {
   "display_name": "base",
   "language": "python",
   "name": "python3"
  },
  "language_info": {
   "codemirror_mode": {
    "name": "ipython",
    "version": 3
   },
   "file_extension": ".py",
   "mimetype": "text/x-python",
   "name": "python",
   "nbconvert_exporter": "python",
   "pygments_lexer": "ipython3",
   "version": "3.11.1"
  },
  "orig_nbformat": 4
 },
 "nbformat": 4,
 "nbformat_minor": 2
}
